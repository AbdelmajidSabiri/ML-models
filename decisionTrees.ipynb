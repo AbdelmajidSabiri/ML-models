{
 "cells": [
  {
   "cell_type": "code",
   "execution_count": 19,
   "id": "9a9bb52f-b2e3-4a07-b8a3-31af578723d7",
   "metadata": {},
   "outputs": [
    {
     "name": "stdout",
     "output_type": "stream",
     "text": [
      "(7, 5)\n"
     ]
    }
   ],
   "source": [
    "import numpy as np\n",
    "\n",
    "\n",
    "\n",
    "S=np.array([[0,0,1,0,0],\n",
    "            [0,0,1,1,0],\n",
    "            [1,0,1,0,1],\n",
    "            [2,1,0,1,1],\n",
    "            [2,2,0,0,1],\n",
    "            [2,2,0,1,1],\n",
    "            [1,2,0,1,0],\n",
    "           ])\n",
    "print(S.shape)"
   ]
  },
  {
   "cell_type": "code",
   "execution_count": 29,
   "id": "3bd626e1-e229-4921-aa68-b84757c107d1",
   "metadata": {},
   "outputs": [
    {
     "data": {
      "text/plain": [
       "0.6829081047004717"
      ]
     },
     "execution_count": 29,
     "metadata": {},
     "output_type": "execute_result"
    }
   ],
   "source": [
    "def H(S) :\n",
    "    n = S.shape[0]\n",
    "    S0 = S[S[:,4]==0,:]\n",
    "    S1 = S[S[:,4]==1,:]\n",
    "\n",
    "    if(S0.shape[0] * S1.shape[0] == 0) : return 0\n",
    "        \n",
    "    p0=S0.shape[0]/n\n",
    "    p1 = 1-p0\n",
    "    E = -p0*np.log(p0)-p1*np.log(p1)\n",
    "    return E\n",
    "\n",
    "H(S)"
   ]
  },
  {
   "cell_type": "code",
   "execution_count": 27,
   "id": "cc6ef55a-9b14-40eb-b64e-2545b0e82eaa",
   "metadata": {},
   "outputs": [
    {
     "data": {
      "text/plain": [
       "0.6829081047004717"
      ]
     },
     "execution_count": 27,
     "metadata": {},
     "output_type": "execute_result"
    }
   ],
   "source": [
    "def H(S) :\n",
    "    n = S.shape[0]\n",
    "    cls = np.unique(S[:,-1])\n",
    "    E=0\n",
    "    for c in cls :\n",
    "        S0 = S[S[:,4]==c,:]\n",
    "        p0 = S0.shape[0]/n\n",
    "        \n",
    "        if(p0 != 0):\n",
    "            E -= p0*np.log(p0)\n",
    "\n",
    "    return E\n",
    "\n",
    "H(S)"
   ]
  },
  {
   "cell_type": "code",
   "execution_count": null,
   "id": "e7fdef30-c95e-4318-8de2-871a035f3eb8",
   "metadata": {},
   "outputs": [],
   "source": [
    "def HA(S):\n",
    "    HaS = 0.0\n",
    "    cls = np.unique(S[:,-1])\n",
    "    for i in range(cls.shape[0]) :\n",
    "        HaS += "
   ]
  }
 ],
 "metadata": {
  "kernelspec": {
   "display_name": "Python 3 (ipykernel)",
   "language": "python",
   "name": "python3"
  },
  "language_info": {
   "codemirror_mode": {
    "name": "ipython",
    "version": 3
   },
   "file_extension": ".py",
   "mimetype": "text/x-python",
   "name": "python",
   "nbconvert_exporter": "python",
   "pygments_lexer": "ipython3",
   "version": "3.12.7"
  }
 },
 "nbformat": 4,
 "nbformat_minor": 5
}
