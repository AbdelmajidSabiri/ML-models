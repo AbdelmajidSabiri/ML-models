{
 "cells": [
  {
   "cell_type": "code",
   "execution_count": 231,
   "id": "c8228239-294c-40d9-a111-bbcd83e891ee",
   "metadata": {},
   "outputs": [],
   "source": [
    "import numpy as np\n",
    "\n",
    "X = np.array([[5,8,7],[8,7,10],[12,10,17],[17,14,18],[10,17,16],[5,6,12],[1,8,14],[3,10,16],[16,8,13],[14,9,16]]).astype(\"float32\")\n",
    "data.shape\n",
    "y = np.array([0,1,2,2,2,0,0,1,2,2])\n"
   ]
  },
  {
   "cell_type": "code",
   "execution_count": 233,
   "id": "e87d53d6-ea84-42c0-ad78-d2e47674295e",
   "metadata": {},
   "outputs": [],
   "source": [
    "def H(y):\n",
    "    n=y.shape[0]\n",
    "    E=0\n",
    "    cls=np.unique(y)\n",
    "    for c in cls:\n",
    "        p=y[y==c].shape[0]/n\n",
    "        E=E-p*np.log2(p)\n",
    "    return E"
   ]
  },
  {
   "cell_type": "code",
   "execution_count": 235,
   "id": "44ee7f41-53cb-4f14-9f10-cf90b294f16c",
   "metadata": {},
   "outputs": [],
   "source": [
    "def best_split(X,y) :\n",
    "    if H(X) == 0 :\n",
    "        return None, None\n",
    "    d = X.shape[1]\n",
    "    G =-np.inf\n",
    "    idx = 0\n",
    "    for i in range(d) :\n",
    "        vls = np.unique(X[:,i])\n",
    "        for v in vls:\n",
    "            nG = Gain(X,y,i,v)\n",
    "            if(nG > G):\n",
    "                G = nG\n",
    "                idx = i\n",
    "                val = v\n",
    "    return idx,val"
   ]
  },
  {
   "cell_type": "code",
   "execution_count": 237,
   "id": "c0357883-ec25-4a88-af2f-de15d7055755",
   "metadata": {},
   "outputs": [],
   "source": [
    "def split(X, idx, v):\n",
    "    S1 = y[X[:,idx] <= v]\n",
    "    S2 = y[X[:,idx] > v]\n",
    "    return S1, S2"
   ]
  },
  {
   "cell_type": "code",
   "execution_count": 239,
   "id": "660f55ce-e66a-488e-b338-a7a588eca0c1",
   "metadata": {},
   "outputs": [],
   "source": [
    "def Gain(X,y,idx,v) :\n",
    "    \n",
    "    S1,S2 = split(X,idx,v)\n",
    "\n",
    "    n = y.shape[0]\n",
    "    n1 = S1.shape[0]\n",
    "    n2 = S2.shape[0]\n",
    "\n",
    "    E = H(y)\n",
    "    E_left = H(S1)\n",
    "    E_right =  H(S2)\n",
    "\n",
    "    G = E- E_left*n1/n - E_right*n2/n\n",
    "    \n",
    "    return G"
   ]
  },
  {
   "cell_type": "code",
   "execution_count": 249,
   "id": "1d9cc811-8185-4792-9672-f48b5b108308",
   "metadata": {},
   "outputs": [
    {
     "data": {
      "text/plain": [
       "0.24643934467101558"
      ]
     },
     "execution_count": 249,
     "metadata": {},
     "output_type": "execute_result"
    }
   ],
   "source": [
    "Gain(X,y,2,10)"
   ]
  },
  {
   "cell_type": "code",
   "execution_count": 243,
   "id": "da162a24-22e9-4ad9-ab9e-d81b510c7c11",
   "metadata": {},
   "outputs": [
    {
     "ename": "IndexError",
     "evalue": "boolean index did not match indexed array along dimension 0; dimension is 10 but corresponding boolean dimension is 5",
     "output_type": "error",
     "traceback": [
      "\u001b[1;31m---------------------------------------------------------------------------\u001b[0m",
      "\u001b[1;31mIndexError\u001b[0m                                Traceback (most recent call last)",
      "Cell \u001b[1;32mIn[243], line 7\u001b[0m\n\u001b[0;32m      4\u001b[0m X_r \u001b[38;5;241m=\u001b[39m X[X[:,idx]\u001b[38;5;241m>\u001b[39mv]\n\u001b[0;32m      5\u001b[0m y_r \u001b[38;5;241m=\u001b[39m y[X[:,idx]\u001b[38;5;241m>\u001b[39mv]\n\u001b[1;32m----> 7\u001b[0m idx_l,v_l \u001b[38;5;241m=\u001b[39m \u001b[43mbest_split\u001b[49m\u001b[43m(\u001b[49m\u001b[43mX_l\u001b[49m\u001b[43m,\u001b[49m\u001b[43my_l\u001b[49m\u001b[43m)\u001b[49m\n\u001b[0;32m      8\u001b[0m idx_r,v_r \u001b[38;5;241m=\u001b[39m best_split(X_r,y_r)\n",
      "Cell \u001b[1;32mIn[235], line 10\u001b[0m, in \u001b[0;36mbest_split\u001b[1;34m(X, y)\u001b[0m\n\u001b[0;32m      8\u001b[0m vls \u001b[38;5;241m=\u001b[39m np\u001b[38;5;241m.\u001b[39munique(X[:,i])\n\u001b[0;32m      9\u001b[0m \u001b[38;5;28;01mfor\u001b[39;00m v \u001b[38;5;129;01min\u001b[39;00m vls:\n\u001b[1;32m---> 10\u001b[0m     nG \u001b[38;5;241m=\u001b[39m \u001b[43mGain\u001b[49m\u001b[43m(\u001b[49m\u001b[43mX\u001b[49m\u001b[43m,\u001b[49m\u001b[43my\u001b[49m\u001b[43m,\u001b[49m\u001b[43mi\u001b[49m\u001b[43m,\u001b[49m\u001b[43mv\u001b[49m\u001b[43m)\u001b[49m\n\u001b[0;32m     11\u001b[0m     \u001b[38;5;28;01mif\u001b[39;00m(nG \u001b[38;5;241m>\u001b[39m G):\n\u001b[0;32m     12\u001b[0m         G \u001b[38;5;241m=\u001b[39m nG\n",
      "Cell \u001b[1;32mIn[239], line 3\u001b[0m, in \u001b[0;36mGain\u001b[1;34m(X, y, idx, v)\u001b[0m\n\u001b[0;32m      1\u001b[0m \u001b[38;5;28;01mdef\u001b[39;00m\u001b[38;5;250m \u001b[39m\u001b[38;5;21mGain\u001b[39m(X,y,idx,v) :\n\u001b[1;32m----> 3\u001b[0m     S1,S2 \u001b[38;5;241m=\u001b[39m \u001b[43msplit\u001b[49m\u001b[43m(\u001b[49m\u001b[43mX\u001b[49m\u001b[43m,\u001b[49m\u001b[43midx\u001b[49m\u001b[43m,\u001b[49m\u001b[43mv\u001b[49m\u001b[43m)\u001b[49m\n\u001b[0;32m      5\u001b[0m     n \u001b[38;5;241m=\u001b[39m y\u001b[38;5;241m.\u001b[39mshape[\u001b[38;5;241m0\u001b[39m]\n\u001b[0;32m      6\u001b[0m     n1 \u001b[38;5;241m=\u001b[39m S1\u001b[38;5;241m.\u001b[39mshape[\u001b[38;5;241m0\u001b[39m]\n",
      "Cell \u001b[1;32mIn[237], line 2\u001b[0m, in \u001b[0;36msplit\u001b[1;34m(X, idx, v)\u001b[0m\n\u001b[0;32m      1\u001b[0m \u001b[38;5;28;01mdef\u001b[39;00m\u001b[38;5;250m \u001b[39m\u001b[38;5;21msplit\u001b[39m(X, idx, v):\n\u001b[1;32m----> 2\u001b[0m     S1 \u001b[38;5;241m=\u001b[39m \u001b[43my\u001b[49m\u001b[43m[\u001b[49m\u001b[43mX\u001b[49m\u001b[43m[\u001b[49m\u001b[43m:\u001b[49m\u001b[43m,\u001b[49m\u001b[43midx\u001b[49m\u001b[43m]\u001b[49m\u001b[43m \u001b[49m\u001b[38;5;241;43m<\u001b[39;49m\u001b[38;5;241;43m=\u001b[39;49m\u001b[43m \u001b[49m\u001b[43mv\u001b[49m\u001b[43m]\u001b[49m\n\u001b[0;32m      3\u001b[0m     S2 \u001b[38;5;241m=\u001b[39m y[X[:,idx] \u001b[38;5;241m>\u001b[39m v]\n\u001b[0;32m      4\u001b[0m     \u001b[38;5;28;01mreturn\u001b[39;00m S1, S2\n",
      "\u001b[1;31mIndexError\u001b[0m: boolean index did not match indexed array along dimension 0; dimension is 10 but corresponding boolean dimension is 5"
     ]
    }
   ],
   "source": [
    "idx,v = best_split(X,y)\n",
    "X_l = X[X[:,idx]<=v]\n",
    "y_l = y[X[:,idx]<=v]\n",
    "X_r = X[X[:,idx]>v]\n",
    "y_r = y[X[:,idx]>v]\n",
    "\n",
    "idx_l,v_l = best_split(X_l,y_l)\n",
    "idx_r,v_r = best_split(X_r,y_r)\n"
   ]
  },
  {
   "cell_type": "code",
   "execution_count": null,
   "id": "9b365e16-8fdf-4750-ba9b-85b1937338c5",
   "metadata": {},
   "outputs": [],
   "source": []
  }
 ],
 "metadata": {
  "kernelspec": {
   "display_name": "Python 3 (ipykernel)",
   "language": "python",
   "name": "python3"
  },
  "language_info": {
   "codemirror_mode": {
    "name": "ipython",
    "version": 3
   },
   "file_extension": ".py",
   "mimetype": "text/x-python",
   "name": "python",
   "nbconvert_exporter": "python",
   "pygments_lexer": "ipython3",
   "version": "3.12.7"
  }
 },
 "nbformat": 4,
 "nbformat_minor": 5
}
