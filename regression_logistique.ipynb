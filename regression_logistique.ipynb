{
 "cells": [
  {
   "cell_type": "markdown",
   "id": "f3141d01-6336-4d1a-af48-1607c80c2bc5",
   "metadata": {},
   "source": [
    "## *Regression Logistique*\n",
    "$$ h_w(x)=\\frac{1}{1+e^{-wx}}$$\n",
    "\n",
    "$$J(w)=\\frac{-1}{m}\\sum(y^i log(h_w(x^i))+(1-y/i)log(1-h_w(x^i))$$\n",
    "\n",
    "$$ wj := w_j-\\alpha \\frac{\\delta J(w_j)}{\\delta w_j}= w_j-\\alpha \\sum(h_w(x^i)-y_i)x_j$$\n",
    "$x^i$: le i ieme exemple\n",
    "\n",
    "$x_j$: La j eme composante de x"
   ]
  },
  {
   "cell_type": "code",
   "execution_count": 2,
   "id": "deb06240-a39b-4963-b21e-3324e4311226",
   "metadata": {},
   "outputs": [],
   "source": [
    "import numpy as np\n",
    "import pandas as pd\n",
    "import matplotlib.pyplot as plt"
   ]
  },
  {
   "cell_type": "code",
   "execution_count": 61,
   "id": "ffc50a3a-c0a9-4f7d-9a7a-62776d4be846",
   "metadata": {},
   "outputs": [
    {
     "ename": "TypeError",
     "evalue": "can't multiply sequence by non-int of type 'float'",
     "output_type": "error",
     "traceback": [
      "\u001b[1;31m---------------------------------------------------------------------------\u001b[0m",
      "\u001b[1;31mTypeError\u001b[0m                                 Traceback (most recent call last)",
      "Cell \u001b[1;32mIn[61], line 54\u001b[0m\n\u001b[0;32m     51\u001b[0m iterations \u001b[38;5;241m=\u001b[39m \u001b[38;5;241m2000\u001b[39m\n\u001b[0;32m     52\u001b[0m alpha \u001b[38;5;241m=\u001b[39m \u001b[38;5;241m0.000001\u001b[39m\n\u001b[1;32m---> 54\u001b[0m w_final \u001b[38;5;241m=\u001b[39m \u001b[43mlogistique_reg\u001b[49m\u001b[43m(\u001b[49m\u001b[43mx\u001b[49m\u001b[43m,\u001b[49m\u001b[43m \u001b[49m\u001b[43my\u001b[49m\u001b[43m,\u001b[49m\u001b[43m \u001b[49m\u001b[43mw\u001b[49m\u001b[43m,\u001b[49m\u001b[43mcompute_cost\u001b[49m\u001b[43m,\u001b[49m\u001b[43m \u001b[49m\u001b[43mdescente_grad\u001b[49m\u001b[43m,\u001b[49m\u001b[43m \u001b[49m\u001b[43malpha\u001b[49m\u001b[43m,\u001b[49m\u001b[43m \u001b[49m\u001b[43miterations\u001b[49m\u001b[43m)\u001b[49m\n\u001b[0;32m     55\u001b[0m \u001b[38;5;28mprint\u001b[39m(\u001b[38;5;124mf\u001b[39m\u001b[38;5;124m\"\u001b[39m\u001b[38;5;124mW0,W Trouvee: \u001b[39m\u001b[38;5;132;01m{\u001b[39;00mw_final[\u001b[38;5;241m0\u001b[39m]\u001b[38;5;132;01m:\u001b[39;00m\u001b[38;5;124m0.2f\u001b[39m\u001b[38;5;132;01m}\u001b[39;00m\u001b[38;5;124m,\u001b[39m\u001b[38;5;132;01m{\u001b[39;00mw_final[\u001b[38;5;241m1\u001b[39m]\u001b[38;5;241m.\u001b[39mtolist()\u001b[38;5;132;01m}\u001b[39;00m\u001b[38;5;124m \u001b[39m\u001b[38;5;124m\"\u001b[39m)\n\u001b[0;32m     57\u001b[0m predictions \u001b[38;5;241m=\u001b[39m np\u001b[38;5;241m.\u001b[39mdot(x, w_final[\u001b[38;5;241m1\u001b[39m]) \u001b[38;5;241m+\u001b[39m w_final[\u001b[38;5;241m0\u001b[39m]\n",
      "Cell \u001b[1;32mIn[61], line 37\u001b[0m, in \u001b[0;36mlogistique_reg\u001b[1;34m(x, y, W, compute_cost, descente_grad, alpha, maxiter)\u001b[0m\n\u001b[0;32m     33\u001b[0m \u001b[38;5;28;01mfor\u001b[39;00m i \u001b[38;5;129;01min\u001b[39;00m \u001b[38;5;28mrange\u001b[39m(maxiter):\n\u001b[0;32m     35\u001b[0m     dj_dw0,dj_dw \u001b[38;5;241m=\u001b[39m descente_grad(x, y, W,alpha,maxiter)\n\u001b[1;32m---> 37\u001b[0m     W[\u001b[38;5;241m1\u001b[39m] \u001b[38;5;241m=\u001b[39m W[\u001b[38;5;241m1\u001b[39m] \u001b[38;5;241m-\u001b[39m \u001b[43malpha\u001b[49m\u001b[43m \u001b[49m\u001b[38;5;241;43m*\u001b[39;49m\u001b[43m \u001b[49m\u001b[43mdj_dw\u001b[49m\n\u001b[0;32m     38\u001b[0m     W[\u001b[38;5;241m0\u001b[39m] \u001b[38;5;241m=\u001b[39m W[\u001b[38;5;241m0\u001b[39m] \u001b[38;5;241m-\u001b[39m alpha \u001b[38;5;241m*\u001b[39m dj_dw0\n\u001b[0;32m     40\u001b[0m     \u001b[38;5;28;01mif\u001b[39;00m i\u001b[38;5;241m<\u001b[39m\u001b[38;5;241m100000\u001b[39m:\n",
      "\u001b[1;31mTypeError\u001b[0m: can't multiply sequence by non-int of type 'float'"
     ]
    },
    {
     "data": {
      "image/png": "[encoded data removed]",
      "text/plain": [
       "<Figure size 640x480 with 1 Axes>"
      ]
     },
     "metadata": {},
     "output_type": "display_data"
    }
   ],
   "source": [
    "x=np.array([45,50,52, 56,60,65,69,71, 75, 79,87,98])\n",
    "y=np.array([0,0,0,0,1,0,1,0,1,1,1,1])\n",
    "w=np.array([0.2,-0.1])\n",
    "\n",
    "plt.scatter(x,y)\n",
    "\n",
    "def compute_cost(x,y,w) :\n",
    "    cost = 0.0\n",
    "    wx = w[0] + w[1]*x\n",
    "    hx = 1/(1+np.exp(-wx))\n",
    "\n",
    "    cost = np.sum(y*np.log(hx)+ (1-y)*(1-np.log(hx)))\n",
    "    return cost\n",
    "    \n",
    "compute_cost(x,y,w)\n",
    "\n",
    "def descente_grad(x,y,w,alpha,maxiter):\n",
    "    m=x.shape[0]\n",
    "    J=[]\n",
    "    for i in range (maxiter):\n",
    "        wx = w[0] + w[1]*x\n",
    "        hx = 1/(1+np.exp(-wx))        \n",
    "        E=compute_cost(x,y,w)\n",
    "        J.append(E)\n",
    "        w[1]-=alpha*(hx-y).dot(x)/m\n",
    "        w[0]-=alpha*np.mean(hx-y)\n",
    "    return w,J\n",
    "\n",
    "\n",
    "def logistique_reg(x, y, W, compute_cost, descente_grad, alpha, maxiter):\n",
    "\n",
    "    J = []\n",
    "    for i in range(maxiter):\n",
    "\n",
    "        dj_dw0,dj_dw = descente_grad(x, y, W,alpha,maxiter)\n",
    "\n",
    "        W[1] = W[1] - alpha * dj_dw\n",
    "        W[0] = W[0] - alpha * dj_dw0\n",
    "\n",
    "        if i<100000:\n",
    "            J.append( compute_cost(x, y, W))\n",
    "\n",
    "        if i % math.ceil(maxiter / 10) == 0:\n",
    "            print(f\"Iteration {i:4d}: Cost {J[-1].item():8.2f} : W : {W[1]} W0 : {W[0]}\")\n",
    "\n",
    "\n",
    "    return W\n",
    "\n",
    "\n",
    "iterations = 2000\n",
    "alpha = 0.000001\n",
    "\n",
    "w_final = logistique_reg(x, y, w,compute_cost, descente_grad, alpha, iterations)\n",
    "print(f\"W0,W Trouvee: {w_final[0]:0.2f},{w_final[1].tolist()} \")\n",
    "\n",
    "predictions = np.dot(x, w_final[1]) + w_final[0]\n",
    "\n",
    "r2 = r2_score(y, predictions)\n",
    "print(\"score:\", r2)"
   ]
  },
  {
   "cell_type": "code",
   "execution_count": null,
   "id": "ef4f02a0-0594-4eff-8c75-a9be4c996372",
   "metadata": {},
   "outputs": [],
   "source": []
  }
 ],
 "metadata": {
  "kernelspec": {
   "display_name": "Python 3 (ipykernel)",
   "language": "python",
   "name": "python3"
  },
  "language_info": {
   "codemirror_mode": {
    "name": "ipython",
    "version": 3
   },
   "file_extension": ".py",
   "mimetype": "text/x-python",
   "name": "python",
   "nbconvert_exporter": "python",
   "pygments_lexer": "ipython3",
   "version": "3.12.7"
  }
 },
 "nbformat": 4,
 "nbformat_minor": 5
}
